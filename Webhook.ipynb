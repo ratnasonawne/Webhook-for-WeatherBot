{
 "cells": [
  {
   "cell_type": "code",
   "execution_count": 1,
   "metadata": {},
   "outputs": [],
   "source": [
    "import json\n",
    "import os\n",
    "import requests\n",
    "from flask import Flask\n",
    "from flask import request\n",
    "from flask import make_response\n",
    "app = Flask(__name__)\n",
    "@app.route('/webhook', methods = ['POST'])\n",
    "\n",
    "def webhook():\n",
    "    req = request.get_json(silent = True, force = True)#any mime type it convert into json forcefully\n",
    "    print(json.dumps(req, indent = 4))\n",
    "    \n",
    "    res = makeResponse(req)\n",
    "    res = json.dumps(res, indent = 4)\n",
    "    r = make_response(res)\n",
    "    r.headers['Content-Type'] = 'application/json'\n",
    "    return 1\n",
    "\n",
    "def makeResponse():\n",
    "    result = req.get(\"result\")\n",
    "    parameters = result.get(\"parameters\")\n",
    "    country = parameters.get(\"geo-country\")\n",
    "    city = parameters.get(\"geo-city\")\n",
    "    date = parameters.get(\"date-time\")\n",
    "    requests.get('http://api.openweathermap.org/data/2.5/weather?q='+city+'&appid=439d4b804bc8187953eb36d2a8c26a02')\n",
    "    json_object = r.json()\n",
    "    weather = json_object['list']\n",
    "    for i in range(0, 30):\n",
    "        if date in weather[i]['dt_txt']:\n",
    "            condition = weather[i]['weather'][0]['description']\n",
    "    \n",
    "    speech = \"The forecast for\" +country+\" for\"+city+\"on\"+date+\"is\"+condition\n",
    "    return{\n",
    "        \"speech\":speech,\n",
    "        \"displayText\":speech,\n",
    "        \"source\":\"apiai-weather-webhook\"\n",
    "    }\n",
    "    \n",
    "if __name__ == '__main__':\n",
    "    port = int(os.getenv('PORT',5000))\n",
    "    print(\"Starting app on port %d\" %port)\n",
    "    app.run(debug = False, port=port, host='0.0.0.0')"
   ]
  },
  {
   "cell_type": "code",
   "execution_count": null,
   "metadata": {},
   "outputs": [],
   "source": []
  }
 ],
 "metadata": {
  "kernelspec": {
   "display_name": "Python 3",
   "language": "python",
   "name": "python3"
  },
  "language_info": {
   "codemirror_mode": {
    "name": "ipython",
    "version": 3
   },
   "file_extension": ".py",
   "mimetype": "text/x-python",
   "name": "python",
   "nbconvert_exporter": "python",
   "pygments_lexer": "ipython3",
   "version": "3.7.4"
  }
 },
 "nbformat": 4,
 "nbformat_minor": 2
}
